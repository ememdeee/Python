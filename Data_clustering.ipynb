{
  "nbformat": 4,
  "nbformat_minor": 0,
  "metadata": {
    "colab": {
      "provenance": [],
      "authorship_tag": "ABX9TyO4w63OJYPH12MYXIC06khW",
      "include_colab_link": true
    },
    "kernelspec": {
      "name": "python3",
      "display_name": "Python 3"
    },
    "language_info": {
      "name": "python"
    }
  },
  "cells": [
    {
      "cell_type": "markdown",
      "metadata": {
        "id": "view-in-github",
        "colab_type": "text"
      },
      "source": [
        "<a href=\"https://colab.research.google.com/github/ememdeee/Python-Artificial-Intelligence-Stuff/blob/main/Data_clustering.ipynb\" target=\"_parent\"><img src=\"https://colab.research.google.com/assets/colab-badge.svg\" alt=\"Open In Colab\"/></a>"
      ]
    },
    {
      "cell_type": "code",
      "metadata": {
        "colab": {
          "base_uri": "https://localhost:8080/"
        },
        "id": "49FUzSfx0PdV",
        "outputId": "b8051cae-54d1-4bae-e04c-ca7169ed4f79"
      },
      "source": [
        "# check scikit-learn version\n",
        "import sklearn\n",
        "print(sklearn.__version__)"
      ],
      "execution_count": null,
      "outputs": [
        {
          "output_type": "stream",
          "name": "stdout",
          "text": [
            "0.22.2.post1\n"
          ]
        }
      ]
    },
    {
      "cell_type": "code",
      "metadata": {
        "colab": {
          "base_uri": "https://localhost:8080/",
          "height": 265
        },
        "id": "IV998ILp0Y6Z",
        "outputId": "a3ce3ded-fc96-4626-d10c-897464d0164d"
      },
      "source": [
        "# synthetic classification dataset\n",
        "from numpy import where\n",
        "from sklearn.datasets import make_classification\n",
        "from matplotlib import pyplot\n",
        "\n",
        "# define dataset\n",
        "X, y = make_classification(n_samples=1000, n_features=2, n_informative=2, n_redundant=0, n_clusters_per_class=1, random_state=4)\n",
        "\n",
        "# create scatter plot for samples from each class\n",
        "for class_value in range(2):\n",
        "\t# get row indexes for samples with this class\n",
        "\trow_ix = where(y == class_value)\n",
        "\t# create scatter of these samples\n",
        "\tpyplot.scatter(X[row_ix, 0], X[row_ix, 1])\n",
        " \n",
        "# show the plot\n",
        "pyplot.show()"
      ],
      "execution_count": null,
      "outputs": [
        {
          "output_type": "display_data",
          "data": {
            "image/png": "[encoded data removed]",
            "text/plain": [
              "<Figure size 432x288 with 1 Axes>"
            ]
          },
          "metadata": {
            "needs_background": "light"
          }
        }
      ]
    },
    {
      "cell_type": "code",
      "metadata": {
        "id": "0Dp0_K2b1DYR"
      },
      "source": [
        "# Mengimpor library\n",
        "import numpy as np\n",
        "import matplotlib.pyplot as plt\n",
        "import pandas as pd"
      ],
      "execution_count": null,
      "outputs": []
    },
    {
      "cell_type": "code",
      "metadata": {
        "id": "YL_XWozJ1FAa"
      },
      "source": [
        "# Mengimpor dataset\n",
        "dataset = pd.read_csv('kkproyekmmd.csv')\n",
        "X = dataset.iloc[:, [19,20]].values"
      ],
      "execution_count": null,
      "outputs": []
    },
    {
      "cell_type": "code",
      "metadata": {
        "colab": {
          "base_uri": "https://localhost:8080/"
        },
        "id": "XDEOwJ_H3xVq",
        "outputId": "b95d4372-dc90-4e2c-f411-cc752931456a"
      },
      "source": [
        "X"
      ],
      "execution_count": null,
      "outputs": [
        {
          "output_type": "execute_result",
          "data": {
            "text/plain": [
              "array([[ 5850000,        2],\n",
              "       [ 6000000,        2],\n",
              "       [ 5700000,        2],\n",
              "       ...,\n",
              "       [ 6970959,        2],\n",
              "       [13500000,        3],\n",
              "       [ 5600000,        2]])"
            ]
          },
          "metadata": {},
          "execution_count": 21
        }
      ]
    },
    {
      "cell_type": "code",
      "metadata": {
        "colab": {
          "base_uri": "https://localhost:8080/",
          "height": 295
        },
        "id": "rs5pylLX1FdC",
        "outputId": "2a46bc8c-8580-45f4-f120-109cfe9d73a2"
      },
      "source": [
        "# Menggunakan metode elbow untuk menentukan angka cluster yang tepat\n",
        "from sklearn.cluster import KMeans\n",
        "wcss = []\n",
        "for i in range(1, 11):\n",
        "    kmeans = KMeans(n_clusters = i, init = 'k-means++', random_state = 42)\n",
        "    kmeans.fit(X)\n",
        "    wcss.append(kmeans.inertia_)\n",
        "plt.plot(range(1, 11), wcss)\n",
        "plt.title('Metode Elbow')\n",
        "plt.xlabel('Jumlah clusters')\n",
        "plt.ylabel('WCSS')\n",
        "plt.show()"
      ],
      "execution_count": null,
      "outputs": [
        {
          "output_type": "display_data",
          "data": {
            "image/png": "[encoded data removed]",
            "text/plain": [
              "<Figure size 432x288 with 1 Axes>"
            ]
          },
          "metadata": {
            "needs_background": "light"
          }
        }
      ]
    },
    {
      "cell_type": "code",
      "metadata": {
        "id": "caJF7JvY1ISS"
      },
      "source": [
        "# Menjalankan K-Means Clustering ke dataset\n",
        "kmeans = KMeans(n_clusters = 5, init = 'k-means++', random_state = 42)\n",
        "y_kmeans = kmeans.fit_predict(X)"
      ],
      "execution_count": null,
      "outputs": []
    },
    {
      "cell_type": "code",
      "metadata": {
        "id": "EGic66jj1IyD"
      },
      "source": [
        "# Visualisasi hasil clusters\n",
        "plt.scatter(X[y_kmeans == 0], X[y_kmeans == 0, 1], s = 100, c = 'red', label = 'Cluster 1')\n",
        "plt.scatter(X[y_kmeans == 1], X[y_kmeans == 1, 1], s = 100, c = 'blue', label = 'Cluster 2')\n",
        "plt.scatter(X[y_kmeans == 2], X[y_kmeans == 2, 1], s = 100, c = 'green', label = 'Cluster 3')\n",
        "plt.scatter(X[y_kmeans == 3], X[y_kmeans == 3, 1], s = 100, c = 'cyan', label = 'Cluster 4')\n",
        "plt.scatter(X[y_kmeans == 4], X[y_kmeans == 4, 1], s = 100, c = 'magenta', label = 'Cluster 5')\n",
        "plt.scatter(kmeans.cluster_centers_[:, 0], kmeans.cluster_centers_[:, 1], s = 300, c = 'yellow', label = 'Centroids')\n",
        "plt.title('Clusters pelanggan')\n",
        "plt.xlabel('Pendapatan tahunan (juta Rupiah)')\n",
        "plt.ylabel('Rating pengeluaran (1-100)')\n",
        "plt.legend()\n",
        "plt.show()"
      ],
      "execution_count": null,
      "outputs": []
    },
    {
      "cell_type": "code",
      "metadata": {
        "id": "RhvwTK2Zp8tq"
      },
      "source": [
        "#import libraries\n",
        "import pandas as pd\n",
        "import numpy as np\n",
        "import random as rd\n",
        "import matplotlib.pyplot as plt"
      ],
      "execution_count": null,
      "outputs": []
    },
    {
      "cell_type": "code",
      "metadata": {
        "colab": {
          "base_uri": "https://localhost:8080/",
          "height": 240
        },
        "id": "VB_jYLWHqC2i",
        "outputId": "88567e6a-3d8c-471b-f7c5-b789e9e896a0"
      },
      "source": [
        "data = pd.read_csv('kkproyekmmd.csv')\n",
        "data.head()"
      ],
      "execution_count": null,
      "outputs": [
        {
          "output_type": "execute_result",
          "data": {
            "text/html": [
              "<div>\n",
              "<style scoped>\n",
              "    .dataframe tbody tr th:only-of-type {\n",
              "        vertical-align: middle;\n",
              "    }\n",
              "\n",
              "    .dataframe tbody tr th {\n",
              "        vertical-align: top;\n",
              "    }\n",
              "\n",
              "    .dataframe thead th {\n",
              "        text-align: right;\n",
              "    }\n",
              "</style>\n",
              "<table border=\"1\" class=\"dataframe\">\n",
              "  <thead>\n",
              "    <tr style=\"text-align: right;\">\n",
              "      <th></th>\n",
              "      <th>sub_area</th>\n",
              "      <th>school_education_centers_raion</th>\n",
              "      <th>healthcare_centers_raion</th>\n",
              "      <th>sport_objects_raion</th>\n",
              "      <th>additional_education_raion</th>\n",
              "      <th>shopping_centers_raion</th>\n",
              "      <th>office_raion</th>\n",
              "      <th>church_count_3000</th>\n",
              "      <th>mosque_count_3000</th>\n",
              "      <th>market_count_3000</th>\n",
              "      <th>metro_km_walk</th>\n",
              "      <th>kindergarten_km</th>\n",
              "      <th>school_km</th>\n",
              "      <th>big_market_km</th>\n",
              "      <th>fitness_km</th>\n",
              "      <th>swim_pool_km</th>\n",
              "      <th>stadium_km</th>\n",
              "      <th>basketball_km</th>\n",
              "      <th>office_km</th>\n",
              "      <th>price_doc</th>\n",
              "      <th>Kelas</th>\n",
              "    </tr>\n",
              "  </thead>\n",
              "  <tbody>\n",
              "    <tr>\n",
              "      <th>0</th>\n",
              "      <td>Bibirevo</td>\n",
              "      <td>5</td>\n",
              "      <td>1</td>\n",
              "      <td>7</td>\n",
              "      <td>3</td>\n",
              "      <td>16</td>\n",
              "      <td>1</td>\n",
              "      <td>4</td>\n",
              "      <td>0</td>\n",
              "      <td>1</td>\n",
              "      <td>1.131260</td>\n",
              "      <td>0.145700</td>\n",
              "      <td>0.177975</td>\n",
              "      <td>10.814172</td>\n",
              "      <td>0.485841</td>\n",
              "      <td>3.065047</td>\n",
              "      <td>8.148591</td>\n",
              "      <td>3.516513</td>\n",
              "      <td>0.637189</td>\n",
              "      <td>5850000</td>\n",
              "      <td>2</td>\n",
              "    </tr>\n",
              "    <tr>\n",
              "      <th>1</th>\n",
              "      <td>Nagatinskij Zaton</td>\n",
              "      <td>8</td>\n",
              "      <td>1</td>\n",
              "      <td>6</td>\n",
              "      <td>1</td>\n",
              "      <td>3</td>\n",
              "      <td>0</td>\n",
              "      <td>7</td>\n",
              "      <td>0</td>\n",
              "      <td>1</td>\n",
              "      <td>0.635053</td>\n",
              "      <td>0.147754</td>\n",
              "      <td>0.273345</td>\n",
              "      <td>6.910568</td>\n",
              "      <td>0.668364</td>\n",
              "      <td>2.000154</td>\n",
              "      <td>6.127073</td>\n",
              "      <td>1.161579</td>\n",
              "      <td>0.688796</td>\n",
              "      <td>6000000</td>\n",
              "      <td>2</td>\n",
              "    </tr>\n",
              "    <tr>\n",
              "      <th>2</th>\n",
              "      <td>Tekstil'shhiki</td>\n",
              "      <td>7</td>\n",
              "      <td>1</td>\n",
              "      <td>5</td>\n",
              "      <td>1</td>\n",
              "      <td>0</td>\n",
              "      <td>1</td>\n",
              "      <td>11</td>\n",
              "      <td>0</td>\n",
              "      <td>6</td>\n",
              "      <td>1.445960</td>\n",
              "      <td>0.049102</td>\n",
              "      <td>0.158072</td>\n",
              "      <td>5.752368</td>\n",
              "      <td>0.733101</td>\n",
              "      <td>1.239304</td>\n",
              "      <td>0.767569</td>\n",
              "      <td>1.952771</td>\n",
              "      <td>1.543049</td>\n",
              "      <td>5700000</td>\n",
              "      <td>2</td>\n",
              "    </tr>\n",
              "    <tr>\n",
              "      <th>3</th>\n",
              "      <td>Mitino</td>\n",
              "      <td>10</td>\n",
              "      <td>1</td>\n",
              "      <td>17</td>\n",
              "      <td>6</td>\n",
              "      <td>11</td>\n",
              "      <td>4</td>\n",
              "      <td>2</td>\n",
              "      <td>0</td>\n",
              "      <td>3</td>\n",
              "      <td>0.963802</td>\n",
              "      <td>0.179441</td>\n",
              "      <td>0.236455</td>\n",
              "      <td>27.892717</td>\n",
              "      <td>0.623484</td>\n",
              "      <td>1.950317</td>\n",
              "      <td>7.385521</td>\n",
              "      <td>4.923843</td>\n",
              "      <td>0.934273</td>\n",
              "      <td>13100000</td>\n",
              "      <td>3</td>\n",
              "    </tr>\n",
              "    <tr>\n",
              "      <th>4</th>\n",
              "      <td>Basmannoe</td>\n",
              "      <td>9</td>\n",
              "      <td>4</td>\n",
              "      <td>25</td>\n",
              "      <td>2</td>\n",
              "      <td>10</td>\n",
              "      <td>93</td>\n",
              "      <td>121</td>\n",
              "      <td>1</td>\n",
              "      <td>5</td>\n",
              "      <td>0.688859</td>\n",
              "      <td>0.247901</td>\n",
              "      <td>0.376838</td>\n",
              "      <td>9.155057</td>\n",
              "      <td>0.220288</td>\n",
              "      <td>2.544696</td>\n",
              "      <td>3.610754</td>\n",
              "      <td>0.307915</td>\n",
              "      <td>0.077901</td>\n",
              "      <td>16331452</td>\n",
              "      <td>3</td>\n",
              "    </tr>\n",
              "  </tbody>\n",
              "</table>\n",
              "</div>"
            ],
            "text/plain": [
              "            sub_area  school_education_centers_raion  ...  price_doc  Kelas\n",
              "0           Bibirevo                               5  ...    5850000      2\n",
              "1  Nagatinskij Zaton                               8  ...    6000000      2\n",
              "2     Tekstil'shhiki                               7  ...    5700000      2\n",
              "3             Mitino                              10  ...   13100000      3\n",
              "4          Basmannoe                               9  ...   16331452      3\n",
              "\n",
              "[5 rows x 21 columns]"
            ]
          },
          "metadata": {},
          "execution_count": 2
        }
      ]
    },
    {
      "cell_type": "code",
      "metadata": {
        "colab": {
          "base_uri": "https://localhost:8080/",
          "height": 280
        },
        "id": "WVOtorzCq-1q",
        "outputId": "196f75d3-edf0-448e-d7f4-2d0cdcdd9fa3"
      },
      "source": [
        "X = data[[\"price_doc\",\"school_km\"]]\n",
        "#Visualise data points\n",
        "plt.scatter(X[\"price_doc\"],X[\"school_km\"],c='black')\n",
        "plt.xlabel('price_doc')\n",
        "plt.ylabel('school_km')\n",
        "plt.show()"
      ],
      "execution_count": null,
      "outputs": [
        {
          "output_type": "display_data",
          "data": {
            "image/png": "[encoded data removed]",
            "text/plain": [
              "<Figure size 432x288 with 1 Axes>"
            ]
          },
          "metadata": {
            "needs_background": "light"
          }
        }
      ]
    },
    {
      "cell_type": "code",
      "metadata": {
        "colab": {
          "base_uri": "https://localhost:8080/",
          "height": 295
        },
        "id": "RhWzGTfEsgky",
        "outputId": "8033ef46-3788-4110-8afb-0231e8e4e38b"
      },
      "source": [
        "# Menggunakan metode elbow untuk menentukan angka cluster yang tepat\n",
        "from sklearn.cluster import KMeans\n",
        "wcss = []\n",
        "for i in range(1, 11):\n",
        "    kmeans = KMeans(n_clusters = i, init = 'k-means++', random_state = 42)\n",
        "    kmeans.fit(X)\n",
        "    wcss.append(kmeans.inertia_)\n",
        "plt.plot(range(1, 11), wcss)\n",
        "plt.title('Metode Elbow')\n",
        "plt.xlabel('Jumlah clusters')\n",
        "plt.ylabel('WCSS')\n",
        "plt.show()"
      ],
      "execution_count": null,
      "outputs": [
        {
          "output_type": "display_data",
          "data": {
            "image/png": "[encoded data removed]",
            "text/plain": [
              "<Figure size 432x288 with 1 Axes>"
            ]
          },
          "metadata": {
            "needs_background": "light"
          }
        }
      ]
    },
    {
      "cell_type": "code",
      "metadata": {
        "colab": {
          "base_uri": "https://localhost:8080/",
          "height": 280
        },
        "id": "5SHPKqYLsVC6",
        "outputId": "e5e5618c-e470-4674-d55b-88c4700d02fe"
      },
      "source": [
        "# Step 1 and 2 - Choose the number of clusters (k) and select random centroid for each cluster\n",
        "\n",
        "#number of clusters\n",
        "K=3\n",
        "\n",
        "# Select random observation as centroids\n",
        "Centroids = (X.sample(n=K))\n",
        "plt.scatter(X[\"price_doc\"],X[\"school_km\"],c='black')\n",
        "plt.scatter(Centroids[\"price_doc\"],Centroids[\"school_km\"],c='red')\n",
        "plt.xlabel('price_doc')\n",
        "plt.ylabel('school_km (In Thousands)')\n",
        "plt.show()"
      ],
      "execution_count": null,
      "outputs": [
        {
          "output_type": "display_data",
          "data": {
            "image/png": "[encoded data removed]",
            "text/plain": [
              "<Figure size 432x288 with 1 Axes>"
            ]
          },
          "metadata": {
            "needs_background": "light"
          }
        }
      ]
    },
    {
      "cell_type": "code",
      "metadata": {
        "colab": {
          "base_uri": "https://localhost:8080/"
        },
        "id": "ez6lJzTwsczX",
        "outputId": "9472c4d8-10b8-4e66-99ec-8fcb9876715f"
      },
      "source": [
        "# Step 3 - Assign all the points to the closest cluster centroid\n",
        "# Step 4 - Recompute centroids of newly formed clusters\n",
        "# Step 5 - Repeat step 3 and 4\n",
        "\n",
        "diff = 1\n",
        "j=0\n",
        "\n",
        "while(diff!=0):\n",
        "    XD=X\n",
        "    i=1\n",
        "    for index1,row_c in Centroids.iterrows():\n",
        "        ED=[]\n",
        "        for index2,row_d in XD.iterrows():\n",
        "            d1=(row_c[\"price_doc\"]-row_d[\"price_doc\"])**2\n",
        "            d2=(row_c[\"school_km\"]-row_d[\"school_km\"])**2\n",
        "            d=np.sqrt(d1+d2)\n",
        "            ED.append(d)\n",
        "        X[i]=ED\n",
        "        i=i+1\n",
        "\n",
        "    C=[]\n",
        "    for index,row in X.iterrows():\n",
        "        min_dist=row[1]\n",
        "        pos=1\n",
        "        for i in range(K):\n",
        "            if row[i+1] < min_dist:\n",
        "                min_dist = row[i+1]\n",
        "                pos=i+1\n",
        "        C.append(pos)\n",
        "    X[\"Cluster\"]=C\n",
        "    Centroids_new = X.groupby([\"Cluster\"]).mean()[[\"school_km\",\"price_doc\"]]\n",
        "    if j == 0:\n",
        "        diff=1\n",
        "        j=j+1\n",
        "    else:\n",
        "        diff = (Centroids_new['school_km'] - Centroids['school_km']).sum() + (Centroids_new['price_doc'] - Centroids['price_doc']).sum()\n",
        "        print(diff.sum())\n",
        "    Centroids = X.groupby([\"Cluster\"]).mean()[[\"school_km\",\"price_doc\"]]"
      ],
      "execution_count": null,
      "outputs": [
        {
          "output_type": "stream",
          "name": "stdout",
          "text": [
            "2280433.836241866\n",
            "2028186.0590541076\n",
            "1875980.8278006713\n",
            "1747286.8111779909\n",
            "1360991.2309451941\n",
            "997352.8790903236\n",
            "652660.2986072968\n",
            "518166.4708872674\n",
            "493854.9651525692\n",
            "373573.5333579143\n",
            "274758.5222592891\n",
            "84363.75202211099\n",
            "105381.1407863183\n",
            "77106.77805407978\n",
            "49996.02539806693\n",
            "195332.8960002353\n",
            "349350.6802725215\n",
            "280140.3990600311\n",
            "209360.90268591454\n",
            "168074.5817048727\n",
            "61291.3637061996\n",
            "312261.9653078336\n",
            "178865.90810340285\n",
            "199986.4137025169\n",
            "164716.48709779943\n",
            "113645.0443441055\n",
            "36880.44282149828\n",
            "316414.74550586165\n",
            "132273.57918772864\n",
            "69438.84724776034\n",
            "4836.995367680338\n",
            "35487.90961740915\n",
            "691.7838110173808\n",
            "66495.47789450688\n",
            "111736.61049966823\n",
            "5663.238468295711\n",
            "707.8891135565941\n",
            "0.0\n"
          ]
        }
      ]
    },
    {
      "cell_type": "code",
      "metadata": {
        "colab": {
          "base_uri": "https://localhost:8080/",
          "height": 280
        },
        "id": "8pL--4fMup76",
        "outputId": "1c0dd451-ecdc-4ad4-922f-80101df2740b"
      },
      "source": [
        "color=['blue','green','cyan']\n",
        "for k in range(K):\n",
        "    data=X[X[\"Cluster\"]==k+1]\n",
        "    plt.scatter(data[\"price_doc\"],data[\"school_km\"],c=color[k])\n",
        "plt.scatter(Centroids[\"price_doc\"],Centroids[\"school_km\"],c='red')\n",
        "plt.xlabel('price_doc')\n",
        "plt.ylabel('school_km')\n",
        "plt.show()"
      ],
      "execution_count": null,
      "outputs": [
        {
          "output_type": "display_data",
          "data": {
            "image/png": "[encoded data removed]",
            "text/plain": [
              "<Figure size 432x288 with 1 Axes>"
            ]
          },
          "metadata": {
            "needs_background": "light"
          }
        }
      ]
    },
    {
      "cell_type": "code",
      "metadata": {
        "id": "JDLoz91pDRZI"
      },
      "source": [
        "import pandas as pd\n",
        "import numpy as np \n",
        "import matplotlib.pyplot as plt\n",
        "from sklearn.cluster import KMeans"
      ],
      "execution_count": null,
      "outputs": []
    },
    {
      "cell_type": "code",
      "metadata": {
        "id": "DpwMQjTyDYJR"
      },
      "source": [
        "x1=10*np.random.rand(100,2)"
      ],
      "execution_count": null,
      "outputs": []
    },
    {
      "cell_type": "code",
      "metadata": {
        "id": "DgMzcPDDDZgB",
        "outputId": "bea46e4c-ade4-4811-f22e-523e16901412",
        "colab": {
          "base_uri": "https://localhost:8080/"
        }
      },
      "source": [
        "x1.shape"
      ],
      "execution_count": null,
      "outputs": [
        {
          "output_type": "execute_result",
          "data": {
            "text/plain": [
              "(100, 2)"
            ]
          },
          "metadata": {},
          "execution_count": 31
        }
      ]
    }
  ]
}