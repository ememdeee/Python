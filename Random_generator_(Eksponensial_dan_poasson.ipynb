{
  "nbformat": 4,
  "nbformat_minor": 0,
  "metadata": {
    "colab": {
      "provenance": [],
      "collapsed_sections": [],
      "authorship_tag": "ABX9TyOoSZnb6nQ5Zr3sLBBRmpap",
      "include_colab_link": true
    },
    "kernelspec": {
      "name": "python3",
      "display_name": "Python 3"
    },
    "language_info": {
      "name": "python"
    }
  },
  "cells": [
    {
      "cell_type": "markdown",
      "metadata": {
        "id": "view-in-github",
        "colab_type": "text"
      },
      "source": [
        "<a href=\"https://colab.research.google.com/github/ememdeee/Python-Artificial-Intelligence-Stuff/blob/main/Random_generator_(Eksponensial_dan_poasson.ipynb\" target=\"_parent\"><img src=\"https://colab.research.google.com/assets/colab-badge.svg\" alt=\"Open In Colab\"/></a>"
      ]
    },
    {
      "cell_type": "code",
      "metadata": {
        "colab": {
          "base_uri": "https://localhost:8080/"
        },
        "id": "Evsb-FmJNJxN",
        "outputId": "2a713933-4510-43bf-a54a-c6a509efc15c"
      },
      "source": [
        "#Demand Size Random Distribusi Poisson\n",
        "import numpy as np\n",
        "import random\n",
        "import matplotlib.pyplot as plt\n",
        "import math\n",
        "\n",
        "\n",
        "for i in range (20):\n",
        "  lamda = 2.24\n",
        "  el = np.exp(-lamda)\n",
        "  n = 0\n",
        "  random = np.random.uniform(0,1)\n",
        "\n",
        "  pp = el\n",
        "  factorial = 1\n",
        "  pow = 1\n",
        "\n",
        "  while (random>pp):\n",
        "    n = n+1\n",
        "    factorial = n*factorial\n",
        "    pow = lamda*pow\n",
        "    pp = pp + (pow/factorial) * el\n",
        "  print(n)  "
      ],
      "execution_count": null,
      "outputs": [
        {
          "output_type": "stream",
          "text": [
            "3\n",
            "2\n",
            "1\n",
            "2\n",
            "3\n",
            "2\n",
            "1\n",
            "5\n",
            "5\n",
            "4\n",
            "1\n",
            "3\n",
            "2\n",
            "2\n",
            "2\n",
            "2\n",
            "3\n",
            "2\n",
            "2\n",
            "6\n"
          ],
          "name": "stdout"
        }
      ]
    },
    {
      "cell_type": "code",
      "metadata": {
        "colab": {
          "base_uri": "https://localhost:8080/"
        },
        "id": "TQdatGnFPXQH",
        "outputId": "1a7bde1f-446d-4a0f-e978-31cebf77708f"
      },
      "source": [
        "#generate eksponensial 0,1 lag\n",
        "\n",
        "beta = 0.5\n",
        "rand=1\n",
        "for i in range (10) :\n",
        "  for j in range(1): #menggenerate 2x untuk u1 & u2\n",
        "    a = 1140671485\n",
        "    c = 128201163\n",
        "    m = 2**24\n",
        "    rand = ((a*rand + c) % m)/1000000\n",
        "    g=round(rand,2)\n",
        "    # print(g)\n",
        "\n",
        "    if (g>=10):\n",
        "      g=g-10\n",
        "      g=round(g)/10\n",
        "      print(g)\n",
        "      # cdf = -beta*math.log(1-g)\n",
        "      # print(round(cdf,3))\n",
        "    \n",
        "    elif (g<10):\n",
        "      g=round(g)/10\n",
        "      print(g)\n",
        "      # cdf = -beta*math.log(1-g)\n",
        "      # print(round(cdf,3))"
      ],
      "execution_count": null,
      "outputs": [
        {
          "output_type": "stream",
          "text": [
            "0.1\n",
            "0.1\n",
            "0.5\n",
            "0.2\n",
            "0.0\n",
            "0.6\n",
            "0.9\n",
            "0.9\n",
            "0.6\n",
            "0.3\n"
          ],
          "name": "stdout"
        }
      ]
    },
    {
      "cell_type": "code",
      "metadata": {
        "colab": {
          "base_uri": "https://localhost:8080/"
        },
        "id": "DqFwnV59mJZq",
        "outputId": "a2c547a3-4e76-4ab8-c3ad-0fa520dceba4"
      },
      "source": [
        "#generate eksponensial 0,1 interdemand\n",
        "\n",
        "beta = 1\n",
        "rand=1\n",
        "for i in range (20) :\n",
        "  for j in range(1): #menggenerate 2x untuk u1 & u2\n",
        "    a = 1140671485\n",
        "    c = 128201163\n",
        "    m = 2**24\n",
        "    rand = ((a*rand + c) % m)/1000000\n",
        "    g=round(rand,2)\n",
        "    # print(g)\n",
        "\n",
        "    if (g>=10):\n",
        "      g=g-10\n",
        "      g=round(g)/10\n",
        "      print(g)\n",
        "      # cdf = -beta*math.log(1-g)\n",
        "      # print(round(cdf,3))\n",
        "    \n",
        "    elif (g<10):\n",
        "      g=round(g)/10\n",
        "      print(g)\n",
        "      # cdf = -beta*math.log(1-g)\n",
        "      # print(round(cdf,3))"
      ],
      "execution_count": null,
      "outputs": [
        {
          "output_type": "stream",
          "text": [
            "0.1\n",
            "0.1\n",
            "0.5\n",
            "0.2\n",
            "0.0\n",
            "0.6\n",
            "0.9\n",
            "0.9\n",
            "0.6\n",
            "0.3\n",
            "0.1\n",
            "0.4\n",
            "0.8\n",
            "0.7\n",
            "0.5\n",
            "0.4\n",
            "0.5\n",
            "0.8\n",
            "0.4\n",
            "0.2\n"
          ],
          "name": "stdout"
        }
      ]
    },
    {
      "cell_type": "code",
      "metadata": {
        "colab": {
          "base_uri": "https://localhost:8080/"
        },
        "id": "nrJLs3rEqm7U",
        "outputId": "e4aa2808-2fc7-41a7-9313-fdbd19e62765"
      },
      "source": [
        "#Kuis Kecil Random Variates Eksponensial\n",
        "import random\n",
        "import matplotlib.pyplot as plt\n",
        "import math\n",
        "\n",
        "beta=float(input('Masukkan beta: '))\n",
        "rand=random.randint(1,100)\n",
        "for i in range (10) :\n",
        "  a = 1140671485\n",
        "  c = 128201163\n",
        "  m = 2**24\n",
        "  rand = ((a*rand + c) % m)/1000000\n",
        "  g=round(rand,3)\n",
        "\n",
        "  #Simpan Checker\n",
        "  if i==0:\n",
        "    cek=g\n",
        "    x=-1\n",
        "  #--------------\n",
        "  if (cek==g):\n",
        "    x=x+1\n",
        "    if (x==1):\n",
        "      print(\"Iterasi ke:\",i,\"selesai\")\n",
        "      break\n",
        "  elif (cek!=g):\n",
        "    if (g>10):\n",
        "      g=g-10\n",
        "      p=(round(g,3))/10\n",
        "      u=round(p,1)\n",
        "    elif (g<10):\n",
        "      p=(round(g,3))/10\n",
        "      u=round(p,3)\n",
        "    cdf = -beta*math.log(1-u)\n",
        "    print(round(cdf,1))"
      ],
      "execution_count": null,
      "outputs": [
        {
          "output_type": "stream",
          "text": [
            "Masukkan beta: 1.5\n",
            "2.6\n",
            "0.9\n",
            "3.6\n",
            "0.2\n",
            "0.4\n",
            "1.3\n",
            "1.0\n",
            "0.3\n",
            "0.3\n"
          ],
          "name": "stdout"
        }
      ]
    }
  ]
}