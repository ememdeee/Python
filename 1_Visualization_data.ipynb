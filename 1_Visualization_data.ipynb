{
  "nbformat": 4,
  "nbformat_minor": 0,
  "metadata": {
    "colab": {
      "provenance": [],
      "collapsed_sections": [],
      "include_colab_link": true
    },
    "kernelspec": {
      "name": "python3",
      "display_name": "Python 3"
    },
    "language_info": {
      "name": "python"
    }
  },
  "cells": [
    {
      "cell_type": "markdown",
      "metadata": {
        "id": "view-in-github",
        "colab_type": "text"
      },
      "source": [
        "<a href=\"https://colab.research.google.com/github/ememdeee/Python-Artificial-Intelligence-Stuff/blob/main/1_Visualization_data.ipynb\" target=\"_parent\"><img src=\"https://colab.research.google.com/assets/colab-badge.svg\" alt=\"Open In Colab\"/></a>"
      ]
    },
    {
      "cell_type": "code",
      "metadata": {
        "id": "XXp4WeAlhYab"
      },
      "source": [
        "import matplotlib.pyplot as plt\n",
        "import pandas as pd\n",
        "\n",
        "df = pd.read_csv('data.csv')"
      ],
      "execution_count": null,
      "outputs": []
    },
    {
      "cell_type": "code",
      "metadata": {
        "colab": {
          "base_uri": "https://localhost:8080/",
          "height": 585
        },
        "id": "vgfjp8Ki2CbI",
        "outputId": "be11a860-d4e0-46c0-c058-aa7c6ba1d903"
      },
      "source": [
        "df"
      ],
      "execution_count": null,
      "outputs": [
        {
          "output_type": "execute_result",
          "data": {
            "text/html": [
              "<div>\n",
              "<style scoped>\n",
              "    .dataframe tbody tr th:only-of-type {\n",
              "        vertical-align: middle;\n",
              "    }\n",
              "\n",
              "    .dataframe tbody tr th {\n",
              "        vertical-align: top;\n",
              "    }\n",
              "\n",
              "    .dataframe thead th {\n",
              "        text-align: right;\n",
              "    }\n",
              "</style>\n",
              "<table border=\"1\" class=\"dataframe\">\n",
              "  <thead>\n",
              "    <tr style=\"text-align: right;\">\n",
              "      <th></th>\n",
              "      <th>tanggal</th>\n",
              "      <th>kode_kelurahan</th>\n",
              "      <th>wilayah_kota</th>\n",
              "      <th>kecamatan</th>\n",
              "      <th>kelurahan</th>\n",
              "      <th>penerima_vaksinasi</th>\n",
              "      <th>dosis</th>\n",
              "      <th>jumlah_vaksin</th>\n",
              "    </tr>\n",
              "  </thead>\n",
              "  <tbody>\n",
              "    <tr>\n",
              "      <th>0</th>\n",
              "      <td>2021-06-20</td>\n",
              "      <td>3171071002</td>\n",
              "      <td>JAKARTA PUSAT</td>\n",
              "      <td>TANAH ABANG</td>\n",
              "      <td>BENDUNGAN HILIR</td>\n",
              "      <td>PELAYAN PUBLIK</td>\n",
              "      <td>DOSIS 1</td>\n",
              "      <td>4103</td>\n",
              "    </tr>\n",
              "    <tr>\n",
              "      <th>1</th>\n",
              "      <td>2021-06-20</td>\n",
              "      <td>3171041006</td>\n",
              "      <td>JAKARTA PUSAT</td>\n",
              "      <td>SENEN</td>\n",
              "      <td>BUNGUR</td>\n",
              "      <td>PELAYAN PUBLIK</td>\n",
              "      <td>DOSIS 1</td>\n",
              "      <td>3152</td>\n",
              "    </tr>\n",
              "    <tr>\n",
              "      <th>2</th>\n",
              "      <td>2021-06-20</td>\n",
              "      <td>3171031006</td>\n",
              "      <td>JAKARTA PUSAT</td>\n",
              "      <td>KEMAYORAN</td>\n",
              "      <td>CEMPAKA BARU</td>\n",
              "      <td>PELAYAN PUBLIK</td>\n",
              "      <td>DOSIS 1</td>\n",
              "      <td>4962</td>\n",
              "    </tr>\n",
              "    <tr>\n",
              "      <th>3</th>\n",
              "      <td>2021-06-20</td>\n",
              "      <td>3171051002</td>\n",
              "      <td>JAKARTA PUSAT</td>\n",
              "      <td>CEMPAKA PUTIH</td>\n",
              "      <td>CEMPAKA PUTIH BARAT</td>\n",
              "      <td>PELAYAN PUBLIK</td>\n",
              "      <td>DOSIS 1</td>\n",
              "      <td>5356</td>\n",
              "    </tr>\n",
              "    <tr>\n",
              "      <th>4</th>\n",
              "      <td>2021-06-20</td>\n",
              "      <td>3171051001</td>\n",
              "      <td>JAKARTA PUSAT</td>\n",
              "      <td>CEMPAKA PUTIH</td>\n",
              "      <td>CEMPAKA PUTIH TIMUR</td>\n",
              "      <td>PELAYAN PUBLIK</td>\n",
              "      <td>DOSIS 1</td>\n",
              "      <td>4319</td>\n",
              "    </tr>\n",
              "    <tr>\n",
              "      <th>...</th>\n",
              "      <td>...</td>\n",
              "      <td>...</td>\n",
              "      <td>...</td>\n",
              "      <td>...</td>\n",
              "      <td>...</td>\n",
              "      <td>...</td>\n",
              "      <td>...</td>\n",
              "      <td>...</td>\n",
              "    </tr>\n",
              "    <tr>\n",
              "      <th>5869</th>\n",
              "      <td>2021-06-30</td>\n",
              "      <td>3101011002</td>\n",
              "      <td>KAB.ADM.KEP.SERIBU</td>\n",
              "      <td>KEP. SERIBU UTARA</td>\n",
              "      <td>PULAU KELAPA</td>\n",
              "      <td>PELAYAN PUBLIK</td>\n",
              "      <td>DOSIS 2</td>\n",
              "      <td>812</td>\n",
              "    </tr>\n",
              "    <tr>\n",
              "      <th>5870</th>\n",
              "      <td>2021-06-30</td>\n",
              "      <td>3101011001</td>\n",
              "      <td>KAB.ADM.KEP.SERIBU</td>\n",
              "      <td>KEP. SERIBU UTARA</td>\n",
              "      <td>PULAU PANGGANG</td>\n",
              "      <td>PELAYAN PUBLIK</td>\n",
              "      <td>DOSIS 2</td>\n",
              "      <td>798</td>\n",
              "    </tr>\n",
              "    <tr>\n",
              "      <th>5871</th>\n",
              "      <td>2021-06-30</td>\n",
              "      <td>3101021003</td>\n",
              "      <td>KAB.ADM.KEP.SERIBU</td>\n",
              "      <td>KEP. SERIBU SELATAN</td>\n",
              "      <td>PULAU PARI</td>\n",
              "      <td>PELAYAN PUBLIK</td>\n",
              "      <td>DOSIS 2</td>\n",
              "      <td>450</td>\n",
              "    </tr>\n",
              "    <tr>\n",
              "      <th>5872</th>\n",
              "      <td>2021-06-30</td>\n",
              "      <td>3101021002</td>\n",
              "      <td>KAB.ADM.KEP.SERIBU</td>\n",
              "      <td>KEP. SERIBU SELATAN</td>\n",
              "      <td>PULAU TIDUNG</td>\n",
              "      <td>PELAYAN PUBLIK</td>\n",
              "      <td>DOSIS 2</td>\n",
              "      <td>870</td>\n",
              "    </tr>\n",
              "    <tr>\n",
              "      <th>5873</th>\n",
              "      <td>2021-06-30</td>\n",
              "      <td>3101021001</td>\n",
              "      <td>KAB.ADM.KEP.SERIBU</td>\n",
              "      <td>KEP. SERIBU SELATAN</td>\n",
              "      <td>PULAU UNTUNG JAWA</td>\n",
              "      <td>PELAYAN PUBLIK</td>\n",
              "      <td>DOSIS 2</td>\n",
              "      <td>415</td>\n",
              "    </tr>\n",
              "  </tbody>\n",
              "</table>\n",
              "<p>5874 rows × 8 columns</p>\n",
              "</div>"
            ],
            "text/plain": [
              "         tanggal  kode_kelurahan  ...    dosis jumlah_vaksin\n",
              "0     2021-06-20      3171071002  ...  DOSIS 1          4103\n",
              "1     2021-06-20      3171041006  ...  DOSIS 1          3152\n",
              "2     2021-06-20      3171031006  ...  DOSIS 1          4962\n",
              "3     2021-06-20      3171051002  ...  DOSIS 1          5356\n",
              "4     2021-06-20      3171051001  ...  DOSIS 1          4319\n",
              "...          ...             ...  ...      ...           ...\n",
              "5869  2021-06-30      3101011002  ...  DOSIS 2           812\n",
              "5870  2021-06-30      3101011001  ...  DOSIS 2           798\n",
              "5871  2021-06-30      3101021003  ...  DOSIS 2           450\n",
              "5872  2021-06-30      3101021002  ...  DOSIS 2           870\n",
              "5873  2021-06-30      3101021001  ...  DOSIS 2           415\n",
              "\n",
              "[5874 rows x 8 columns]"
            ]
          },
          "metadata": {},
          "execution_count": 2
        }
      ]
    },
    {
      "cell_type": "markdown",
      "metadata": {
        "id": "ui8rUkdg2Nm6"
      },
      "source": [
        "Cleaning data **delete: kode kelurahan,kelurahan,penerima vaksinasi & rubah penulisan dosis to numeric**"
      ]
    },
    {
      "cell_type": "code",
      "metadata": {
        "id": "tm1WKy-E2EZJ"
      },
      "source": [
        "df2=df.drop(columns=[\"kode_kelurahan\",\"kelurahan\",\"penerima_vaksinasi\"])\n",
        "df2=df2.sort_values(\"tanggal\")\n",
        "\n",
        "df2[\"dosis\"]=df2[\"dosis\"].replace([\"DOSIS 1\"],'1')\n",
        "df2[\"dosis\"]=df2[\"dosis\"].replace([\"DOSIS 2\"],'2')\n",
        "\n",
        "df2[\"dosis\"] =pd.to_numeric(df2[\"dosis\"])"
      ],
      "execution_count": null,
      "outputs": []
    },
    {
      "cell_type": "markdown",
      "metadata": {
        "id": "9MszpsgcOjK5"
      },
      "source": [
        "tambahkan harike (0-10 karena hanya terjadi dalam 11 hari namun didata penuh perubahan setiap daerah +- 500 area)"
      ]
    },
    {
      "cell_type": "code",
      "metadata": {
        "id": "MdRJRO6RcxqQ"
      },
      "source": [
        "df2['Harike']=(pd.to_datetime(df2['tanggal'])-pd.to_datetime('2021-06-20')).dt.days"
      ],
      "execution_count": null,
      "outputs": []
    },
    {
      "cell_type": "code",
      "metadata": {
        "colab": {
          "base_uri": "https://localhost:8080/",
          "height": 417
        },
        "id": "EhQfyG83haq-",
        "outputId": "4744b2fe-8f52-49b6-bd0d-f656e1ce8136"
      },
      "source": [
        "df2"
      ],
      "execution_count": null,
      "outputs": [
        {
          "output_type": "execute_result",
          "data": {
            "text/html": [
              "<div>\n",
              "<style scoped>\n",
              "    .dataframe tbody tr th:only-of-type {\n",
              "        vertical-align: middle;\n",
              "    }\n",
              "\n",
              "    .dataframe tbody tr th {\n",
              "        vertical-align: top;\n",
              "    }\n",
              "\n",
              "    .dataframe thead th {\n",
              "        text-align: right;\n",
              "    }\n",
              "</style>\n",
              "<table border=\"1\" class=\"dataframe\">\n",
              "  <thead>\n",
              "    <tr style=\"text-align: right;\">\n",
              "      <th></th>\n",
              "      <th>tanggal</th>\n",
              "      <th>wilayah_kota</th>\n",
              "      <th>kecamatan</th>\n",
              "      <th>dosis</th>\n",
              "      <th>jumlah_vaksin</th>\n",
              "      <th>Harike</th>\n",
              "    </tr>\n",
              "  </thead>\n",
              "  <tbody>\n",
              "    <tr>\n",
              "      <th>0</th>\n",
              "      <td>2021-06-20</td>\n",
              "      <td>JAKARTA PUSAT</td>\n",
              "      <td>TANAH ABANG</td>\n",
              "      <td>1</td>\n",
              "      <td>4103</td>\n",
              "      <td>0</td>\n",
              "    </tr>\n",
              "    <tr>\n",
              "      <th>1702</th>\n",
              "      <td>2021-06-20</td>\n",
              "      <td>JAKARTA BARAT</td>\n",
              "      <td>GROGOL PETAMBURAN</td>\n",
              "      <td>1</td>\n",
              "      <td>3370</td>\n",
              "      <td>0</td>\n",
              "    </tr>\n",
              "    <tr>\n",
              "      <th>1703</th>\n",
              "      <td>2021-06-20</td>\n",
              "      <td>JAKARTA BARAT</td>\n",
              "      <td>KALI DERES</td>\n",
              "      <td>1</td>\n",
              "      <td>10985</td>\n",
              "      <td>0</td>\n",
              "    </tr>\n",
              "    <tr>\n",
              "      <th>1704</th>\n",
              "      <td>2021-06-20</td>\n",
              "      <td>JAKARTA BARAT</td>\n",
              "      <td>GROGOL PETAMBURAN</td>\n",
              "      <td>1</td>\n",
              "      <td>5726</td>\n",
              "      <td>0</td>\n",
              "    </tr>\n",
              "    <tr>\n",
              "      <th>1705</th>\n",
              "      <td>2021-06-20</td>\n",
              "      <td>JAKARTA BARAT</td>\n",
              "      <td>GROGOL PETAMBURAN</td>\n",
              "      <td>1</td>\n",
              "      <td>6646</td>\n",
              "      <td>0</td>\n",
              "    </tr>\n",
              "    <tr>\n",
              "      <th>...</th>\n",
              "      <td>...</td>\n",
              "      <td>...</td>\n",
              "      <td>...</td>\n",
              "      <td>...</td>\n",
              "      <td>...</td>\n",
              "      <td>...</td>\n",
              "    </tr>\n",
              "    <tr>\n",
              "      <th>4252</th>\n",
              "      <td>2021-06-30</td>\n",
              "      <td>JAKARTA SELATAN</td>\n",
              "      <td>CILANDAK</td>\n",
              "      <td>2</td>\n",
              "      <td>4207</td>\n",
              "      <td>10</td>\n",
              "    </tr>\n",
              "    <tr>\n",
              "      <th>4251</th>\n",
              "      <td>2021-06-30</td>\n",
              "      <td>JAKARTA SELATAN</td>\n",
              "      <td>PANCORAN</td>\n",
              "      <td>2</td>\n",
              "      <td>1022</td>\n",
              "      <td>10</td>\n",
              "    </tr>\n",
              "    <tr>\n",
              "      <th>4250</th>\n",
              "      <td>2021-06-30</td>\n",
              "      <td>JAKARTA SELATAN</td>\n",
              "      <td>JAGAKARSA</td>\n",
              "      <td>2</td>\n",
              "      <td>3076</td>\n",
              "      <td>10</td>\n",
              "    </tr>\n",
              "    <tr>\n",
              "      <th>4257</th>\n",
              "      <td>2021-06-30</td>\n",
              "      <td>JAKARTA SELATAN</td>\n",
              "      <td>KEBAYORAN LAMA</td>\n",
              "      <td>2</td>\n",
              "      <td>2980</td>\n",
              "      <td>10</td>\n",
              "    </tr>\n",
              "    <tr>\n",
              "      <th>5873</th>\n",
              "      <td>2021-06-30</td>\n",
              "      <td>KAB.ADM.KEP.SERIBU</td>\n",
              "      <td>KEP. SERIBU SELATAN</td>\n",
              "      <td>2</td>\n",
              "      <td>415</td>\n",
              "      <td>10</td>\n",
              "    </tr>\n",
              "  </tbody>\n",
              "</table>\n",
              "<p>5874 rows × 6 columns</p>\n",
              "</div>"
            ],
            "text/plain": [
              "         tanggal        wilayah_kota  ... jumlah_vaksin  Harike\n",
              "0     2021-06-20       JAKARTA PUSAT  ...          4103       0\n",
              "1702  2021-06-20       JAKARTA BARAT  ...          3370       0\n",
              "1703  2021-06-20       JAKARTA BARAT  ...         10985       0\n",
              "1704  2021-06-20       JAKARTA BARAT  ...          5726       0\n",
              "1705  2021-06-20       JAKARTA BARAT  ...          6646       0\n",
              "...          ...                 ...  ...           ...     ...\n",
              "4252  2021-06-30     JAKARTA SELATAN  ...          4207      10\n",
              "4251  2021-06-30     JAKARTA SELATAN  ...          1022      10\n",
              "4250  2021-06-30     JAKARTA SELATAN  ...          3076      10\n",
              "4257  2021-06-30     JAKARTA SELATAN  ...          2980      10\n",
              "5873  2021-06-30  KAB.ADM.KEP.SERIBU  ...           415      10\n",
              "\n",
              "[5874 rows x 6 columns]"
            ]
          },
          "metadata": {},
          "execution_count": 5
        }
      ]
    },
    {
      "cell_type": "markdown",
      "metadata": {
        "id": "tO85CiDHCDwQ"
      },
      "source": [
        "**LINE**"
      ]
    },
    {
      "cell_type": "code",
      "metadata": {
        "colab": {
          "base_uri": "https://localhost:8080/"
        },
        "id": "0ln5DYnqmDKV",
        "outputId": "1a8a5221-9f08-4d86-d825-f8411452a017"
      },
      "source": [
        "jumlah=[]                                 #jumlah tervaksin perhari\n",
        "for i in range (11):\n",
        "  temp=df2[df2['Harike']==i]              #hitung jumlah per hari(1-11)\n",
        "  temp=temp['jumlah_vaksin'].sum()\n",
        "  jumlah.append(temp)\n",
        "print(jumlah)"
      ],
      "execution_count": null,
      "outputs": [
        {
          "output_type": "stream",
          "name": "stdout",
          "text": [
            "[2120263, 2146454, 2210521, 2245395, 2345792, 2416116, 2489586, 2515247, 2525680, 2596925, 2669138]\n"
          ]
        }
      ]
    },
    {
      "cell_type": "code",
      "metadata": {
        "colab": {
          "base_uri": "https://localhost:8080/",
          "height": 290
        },
        "id": "L7NeLHXJCrNX",
        "outputId": "0cddb29d-c000-402d-87e8-2730a4f1b012"
      },
      "source": [
        "Hari=[0,1,2,3,4,5,6,7,8,9,10]\n",
        "plt.plot(Hari, jumlah)\n",
        "plt.legend([\"jumlah warga tervaksin\"])\n",
        "plt.xlabel(\"harike\")\n",
        "plt.ylabel(\"jumlah\")\n",
        "plt.show()"
      ],
      "execution_count": null,
      "outputs": [
        {
          "output_type": "display_data",
          "data": {
            "image/png": "[encoded data removed]",
            "text/plain": [
              "<Figure size 432x288 with 1 Axes>"
            ]
          },
          "metadata": {
            "needs_background": "light"
          }
        }
      ]
    },
    {
      "cell_type": "markdown",
      "metadata": {
        "id": "-wKSIjxGp3XT"
      },
      "source": [
        "Visualisasi **Bar** (Harike 0 = 2021-06-20)"
      ]
    },
    {
      "cell_type": "code",
      "metadata": {
        "colab": {
          "base_uri": "https://localhost:8080/",
          "height": 294
        },
        "id": "DG83L5uuRj7n",
        "outputId": "2cc323ce-b1b9-423b-9a51-0bf3fbe86ff5"
      },
      "source": [
        "plt.bar(Hari, jumlah, color='lightcoral')\n",
        "plt.xlabel('Harike', size=14)\n",
        "plt.ylabel('Jumlah tervaksin', size=14)\n",
        "plt.show()"
      ],
      "execution_count": null,
      "outputs": [
        {
          "output_type": "display_data",
          "data": {
            "image/png": "[encoded data removed]",
            "text/plain": [
              "<Figure size 432x288 with 1 Axes>"
            ]
          },
          "metadata": {
            "needs_background": "light"
          }
        }
      ]
    },
    {
      "cell_type": "markdown",
      "metadata": {
        "id": "zMltbn6Z37Up"
      },
      "source": [
        "Diagram **Pie** "
      ]
    },
    {
      "cell_type": "code",
      "metadata": {
        "id": "T6UWNVoP8sOg"
      },
      "source": [
        "Jakarta_pusat=df2[df2['wilayah_kota']=='JAKARTA PUSAT']\n",
        "Jakarta_utara=df2[df2['wilayah_kota']=='JAKARTA UTARA']\n",
        "Jakarta_barat=df2[df2['wilayah_kota']=='JAKARTA BARAT']\n",
        "Jakarta_selatan=df2[df2['wilayah_kota']=='JAKARTA SELATAN']\n",
        "Jakarta_timur=df2[df2['wilayah_kota']=='JAKARTA TIMUR']\n",
        "Jakarta_kab=df2[df2['wilayah_kota']=='KAB.ADM.KEP.SERIBU']"
      ],
      "execution_count": null,
      "outputs": []
    },
    {
      "cell_type": "code",
      "metadata": {
        "colab": {
          "base_uri": "https://localhost:8080/"
        },
        "id": "9tgCsm917Uax",
        "outputId": "5e0640ca-0ffb-4fd8-fb10-51bfdc134a0e"
      },
      "source": [
        "wilayahKota_array=[Jakarta_pusat,Jakarta_utara,Jakarta_barat,Jakarta_selatan,Jakarta_timur,Jakarta_kab]\n",
        "jumlhWilayahKota_array=[]\n",
        "\n",
        "for i in range (6):\n",
        "  total_rows = len(wilayahKota_array[i])\n",
        "  #print(total_rows)\n",
        "  jumlhWilayahKota_array.append(total_rows)\n",
        "  \n",
        "print(jumlhWilayahKota_array)"
      ],
      "execution_count": null,
      "outputs": [
        {
          "output_type": "stream",
          "name": "stdout",
          "text": [
            "[968, 682, 1232, 1430, 1430, 132]\n"
          ]
        }
      ]
    },
    {
      "cell_type": "code",
      "metadata": {
        "colab": {
          "base_uri": "https://localhost:8080/",
          "height": 248
        },
        "id": "RDejabENACAo",
        "outputId": "bcd8c4d4-d094-4e73-8ad4-3d9813c4dc04"
      },
      "source": [
        "mylabels=[\"Jakarta Pusat\",\"Jakarta Utara\",\"Jakarta Barat\",\"Jakarta Selatan\",\"Jakarta Timur\",\"KAB.ADM.KEP.SERIBU\"]\n",
        "myexplode = [0, 0, 0, 0.1,0.1,0]\n",
        "\n",
        "plt.pie(jumlhWilayahKota_array,labels = mylabels, explode = myexplode, autopct='%1.1f%%', shadow=True, startangle=90)\n",
        "\n",
        "plt.show()"
      ],
      "execution_count": null,
      "outputs": [
        {
          "output_type": "display_data",
          "data": {
            "image/png": "[encoded data removed]",
            "text/plain": [
              "<Figure size 432x288 with 1 Axes>"
            ]
          },
          "metadata": {}
        }
      ]
    },
    {
      "cell_type": "markdown",
      "metadata": {
        "id": "eHBuqLC8wVNa"
      },
      "source": [
        "**3D Scatter Plot**"
      ]
    },
    {
      "cell_type": "markdown",
      "metadata": {
        "id": "tYMnyVEuORHp"
      },
      "source": [
        "pilih salah satu"
      ]
    },
    {
      "cell_type": "code",
      "metadata": {
        "id": "9mego0ISGKgk"
      },
      "source": [
        "z = df2['jumlah_vaksin']\n",
        "x = df2['Harike']\n",
        "y = df2['dosis']"
      ],
      "execution_count": null,
      "outputs": []
    },
    {
      "cell_type": "code",
      "metadata": {
        "colab": {
          "base_uri": "https://localhost:8080/",
          "height": 248
        },
        "id": "GyAWIWy8G3_c",
        "outputId": "f3f86e01-28c9-485f-9a08-c720eb5e3153"
      },
      "source": [
        "fig = plt.figure()\n",
        "ax=plt.axes(projection=\"3d\")\n",
        "\n",
        "ax.scatter(x,y,z,color='green')\n",
        "\n",
        "ax.set(title='3d sctplot',\n",
        "        xlabel='Harike',\n",
        "        ylabel='Dosis',\n",
        "        zlabel='jumlah_vaksin')\n",
        "\n",
        "plt.show()"
      ],
      "execution_count": null,
      "outputs": [
        {
          "output_type": "display_data",
          "data": {
            "image/png": "[encoded data removed]",
            "text/plain": [
              "<Figure size 432x288 with 1 Axes>"
            ]
          },
          "metadata": {
            "needs_background": "light"
          }
        }
      ]
    }
  ]
}